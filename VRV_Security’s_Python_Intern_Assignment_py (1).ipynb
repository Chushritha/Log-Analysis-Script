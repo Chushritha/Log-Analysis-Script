{
  "cells": [
    {
      "cell_type": "markdown",
      "id": "b69d3995-7b49-4a96-9c35-35d45b4f5ad7",
      "metadata": {
        "id": "b69d3995-7b49-4a96-9c35-35d45b4f5ad7"
      },
      "source": [
        "1. Count Requests per IP Address.\n",
        "   \n",
        "This function will parse the log file to extract IP addresses and count the requests made by each IP."
      ]
    },
    {
      "cell_type": "code",
      "execution_count": 1,
      "id": "6cb5261b-d7ae-4595-aab6-6d83fc9c66ef",
      "metadata": {
        "id": "6cb5261b-d7ae-4595-aab6-6d83fc9c66ef"
      },
      "outputs": [],
      "source": [
        "logfile = 'path/to/your/sample.log'"
      ]
    },
    {
      "cell_type": "code",
      "execution_count": 4,
      "id": "74045a0c-dd54-455b-a648-f6d92677e587",
      "metadata": {
        "colab": {
          "base_uri": "https://localhost:8080/"
        },
        "id": "74045a0c-dd54-455b-a648-f6d92677e587",
        "outputId": "d80095d6-0254-4b9c-fed7-39fca8d9b1ba"
      },
      "outputs": [
        {
          "output_type": "stream",
          "name": "stdout",
          "text": [
            "Results successfully saved to ip_request_counts.xlsx\n"
          ]
        }
      ],
      "source": [
        "sample_log = \"\"\"\\\n",
        "192.168.1.1 - - [01/Dec/2024:12:34:56 +0000] \"GET /index.html HTTP/1.1\" 200 1024\n",
        "203.0.113.5 - - [01/Dec/2024:12:35:12 +0000] \"POST /login HTTP/1.1\" 403 512\n",
        "192.168.1.1 - - [01/Dec/2024:12:35:30 +0000] \"GET /about.html HTTP/1.1\" 200 2048\n",
        "10.0.0.2 - - [01/Dec/2024:12:36:00 +0000] \"GET /home HTTP/1.1\" 404 256\n",
        "203.0.113.5 - - [01/Dec/2024:12:36:45 +0000] \"GET /dashboard HTTP/1.1\" 200 768\n",
        "\"\"\"\n",
        "\n",
        "# Write to a log file\n",
        "log_file_path = \"logfile.txt\"\n",
        "with open(log_file_path, \"w\") as file:\n",
        "    file.write(sample_log)\n",
        "\n",
        "import re\n",
        "import pandas as pd\n",
        "from collections import Counter\n",
        "\n",
        "# Function to parse log file and count requests per IP address\n",
        "def count_requests_per_ip(log_file_path, output_excel_path):\n",
        "    try:\n",
        "        # Read the log file\n",
        "        with open(log_file_path, 'r') as log_file:\n",
        "            log_data = log_file.readlines()\n",
        "\n",
        "        # Extract IP addresses using regex\n",
        "        ip_pattern = r'\\b(?:[0-9]{1,3}\\.){3}[0-9]{1,3}\\b'\n",
        "        ip_addresses = [re.search(ip_pattern, line).group(0) for line in log_data if re.search(ip_pattern, line)]\n",
        "\n",
        "        # Count requests per IP address\n",
        "        ip_counts = Counter(ip_addresses)\n",
        "\n",
        "        # Convert to a DataFrame for sorting and exporting\n",
        "        ip_df = pd.DataFrame(ip_counts.items(), columns=[\"IP Address\", \"Request Count\"])\n",
        "        ip_df = ip_df.sort_values(by=\"Request Count\", ascending=False)\n",
        "\n",
        "        # Save to Excel file\n",
        "        ip_df.to_excel(output_excel_path, index=False)\n",
        "        print(f\"Results successfully saved to {output_excel_path}\")\n",
        "\n",
        "    except FileNotFoundError:\n",
        "        print(f\"Error: File {log_file_path} not found.\")\n",
        "    except Exception as e:\n",
        "        print(f\"An error occurred: {e}\")\n",
        "\n",
        "\n",
        "# Call the function\n",
        "output_excel_path = \"ip_request_counts.xlsx\"\n",
        "count_requests_per_ip(log_file_path, output_excel_path)"
      ]
    },
    {
      "cell_type": "code",
      "execution_count": 5,
      "id": "31fd3c46-95c0-4a19-b3ad-c3fb487dc0f8",
      "metadata": {
        "colab": {
          "base_uri": "https://localhost:8080/"
        },
        "id": "31fd3c46-95c0-4a19-b3ad-c3fb487dc0f8",
        "outputId": "1431b8b8-e227-4f6e-95e1-97a77de68ab3"
      },
      "outputs": [
        {
          "output_type": "stream",
          "name": "stdout",
          "text": [
            "Results successfully saved to ip_request_counts.xlsx\n"
          ]
        }
      ],
      "source": [
        "import re\n",
        "import pandas as pd\n",
        "from collections import Counter\n",
        "\n",
        "# Function to parse log file and count requests per IP address\n",
        "def count_requests_per_ip(log_file_path, output_excel_path):\n",
        "    try:\n",
        "        # Read the log file\n",
        "        with open(log_file_path, 'r') as log_file:\n",
        "            log_data = log_file.readlines()\n",
        "\n",
        "        # Extract IP addresses using regex\n",
        "        ip_pattern = r'\\b(?:[0-9]{1,3}\\.){3}[0-9]{1,3}\\b'\n",
        "        ip_addresses = [re.search(ip_pattern, line).group(0) for line in log_data if re.search(ip_pattern, line)]\n",
        "\n",
        "        # Count requests per IP address\n",
        "        ip_counts = Counter(ip_addresses)\n",
        "\n",
        "        # Convert to a DataFrame for sorting and exporting\n",
        "        ip_df = pd.DataFrame(ip_counts.items(), columns=[\"IP Address\", \"Request Count\"])\n",
        "        ip_df = ip_df.sort_values(by=\"Request Count\", ascending=False)\n",
        "\n",
        "        # Save to Excel file\n",
        "        ip_df.to_excel(output_excel_path, index=False)\n",
        "        print(f\"Results successfully saved to {output_excel_path}\")\n",
        "\n",
        "    except FileNotFoundError:\n",
        "        print(f\"Error: File {log_file_path} not found.\")\n",
        "    except Exception as e:\n",
        "        print(f\"An error occurred: {e}\")\n",
        "\n",
        "# Usage example\n",
        "log_file_path = \"logfile.txt\"  # Replace with your log file path\n",
        "output_excel_path = \"ip_request_counts.xlsx\"  # Desired output Excel file path\n",
        "count_requests_per_ip(log_file_path, output_excel_path)"
      ]
    },
    {
      "cell_type": "code",
      "execution_count": 6,
      "id": "e8cb1e24-4ad8-4387-b2a3-85a59dc7900f",
      "metadata": {
        "colab": {
          "base_uri": "https://localhost:8080/"
        },
        "id": "e8cb1e24-4ad8-4387-b2a3-85a59dc7900f",
        "outputId": "7bf17c91-002a-4591-c0aa-86a06b8e3e78"
      },
      "outputs": [
        {
          "output_type": "stream",
          "name": "stdout",
          "text": [
            "Results successfully saved to ip_request_counts.xlsx\n",
            "IP Address           Request Count\n",
            "192.168.1.1         2\n",
            "203.0.113.5         2\n",
            "10.0.0.2            1\n"
          ]
        }
      ],
      "source": [
        "import re\n",
        "import pandas as pd\n",
        "from collections import Counter\n",
        "\n",
        "# Function to parse log file and count requests per IP address\n",
        "def count_requests_per_ip(log_file_path, output_excel_path):\n",
        "    try:\n",
        "        # Read the log file\n",
        "        with open(log_file_path, 'r') as log_file:\n",
        "            log_data = log_file.readlines()\n",
        "\n",
        "        # Extract IP addresses using regex\n",
        "        ip_pattern = r'\\b(?:[0-9]{1,3}\\.){3}[0-9]{1,3}\\b'\n",
        "        ip_addresses = [re.search(ip_pattern, line).group(0) for line in log_data if re.search(ip_pattern, line)]\n",
        "\n",
        "        # Count requests per IP address\n",
        "        ip_counts = Counter(ip_addresses)\n",
        "\n",
        "        # Convert to a DataFrame for sorting and exporting\n",
        "        ip_df = pd.DataFrame(ip_counts.items(), columns=[\"IP Address\", \"Request Count\"])\n",
        "        ip_df = ip_df.sort_values(by=\"Request Count\", ascending=False)\n",
        "\n",
        "        # Save to Excel file\n",
        "        ip_df.to_excel(output_excel_path, index=False)\n",
        "        print(f\"Results successfully saved to {output_excel_path}\")\n",
        "\n",
        "    except FileNotFoundError:\n",
        "        print(f\"Error: File {log_file_path} not found.\")\n",
        "    except Exception as e:\n",
        "        print(f\"An error occurred: {e}\")\n",
        "\n",
        "# Function to count requests per IP address using an existing Excel file\n",
        "def count_requests_from_excel(input_excel_path):\n",
        "    try:\n",
        "        # Read the Excel file\n",
        "        ip_df = pd.read_excel(input_excel_path)\n",
        "\n",
        "        # Sort data by request count in descending order\n",
        "        ip_df = ip_df.sort_values(by=\"Request Count\", ascending=False)\n",
        "\n",
        "        print(\"IP Address           Request Count\")\n",
        "        for _, row in ip_df.iterrows():\n",
        "            print(f\"{row['IP Address']:<20}{row['Request Count']}\")\n",
        "\n",
        "    except FileNotFoundError:\n",
        "        print(f\"Error: File {input_excel_path} not found.\")\n",
        "    except Exception as e:\n",
        "        print(f\"An error occurred: {e}\")\n",
        "\n",
        "# Usage example\n",
        "log_file_path = \"logfile.txt\"  # Replace with your log file path\n",
        "output_excel_path = \"ip_request_counts.xlsx\"  # Desired output Excel file path\n",
        "count_requests_per_ip(log_file_path, output_excel_path)\n",
        "\n",
        "# Use the Excel file to count requests\n",
        "input_excel_path = \"ip_request_counts.xlsx\"\n",
        "count_requests_from_excel(input_excel_path)"
      ]
    },
    {
      "cell_type": "code",
      "execution_count": 6,
      "id": "457c435b-db3a-4e49-8def-e294853d89e6",
      "metadata": {
        "id": "457c435b-db3a-4e49-8def-e294853d89e6"
      },
      "outputs": [],
      "source": []
    },
    {
      "cell_type": "markdown",
      "id": "b87227c4-e55c-4546-b8d8-0a3af34a5850",
      "metadata": {
        "id": "b87227c4-e55c-4546-b8d8-0a3af34a5850"
      },
      "source": [
        "2. Identify the Most Frequently Accessed Endpoint.\n",
        "   \n",
        "This function will extract endpoints and find the one accessed the most"
      ]
    },
    {
      "cell_type": "code",
      "execution_count": 7,
      "id": "0ddf4e6f-e2e1-43dc-ab89-d3012434f073",
      "metadata": {
        "colab": {
          "base_uri": "https://localhost:8080/"
        },
        "id": "0ddf4e6f-e2e1-43dc-ab89-d3012434f073",
        "outputId": "4e334240-615a-4535-e38b-864cf5e11bec"
      },
      "outputs": [
        {
          "output_type": "stream",
          "name": "stdout",
          "text": [
            "Results successfully saved to ip_request_counts.xlsx\n",
            "Most Frequently Accessed Endpoint:\n",
            "/index.html (Accessed 1 times)\n"
          ]
        }
      ],
      "source": [
        "# Function to identify the most frequently accessed endpoint\n",
        "def most_frequent_endpoint(log_file_path):\n",
        "    try:\n",
        "        # Read the log file\n",
        "        with open(log_file_path, 'r') as log_file:\n",
        "            log_data = log_file.readlines()\n",
        "\n",
        "        # Extract endpoints using regex\n",
        "        endpoint_pattern = r'\"(?:GET|POST|PUT|DELETE|HEAD|OPTIONS|PATCH) (.*?) HTTP/\\d\\.\\d\"'\n",
        "        endpoints = [re.search(endpoint_pattern, line).group(1) for line in log_data if re.search(endpoint_pattern, line)]\n",
        "\n",
        "        # Count requests per endpoint\n",
        "        endpoint_counts = Counter(endpoints)\n",
        "\n",
        "        # Identify the most frequently accessed endpoint\n",
        "        most_frequent = endpoint_counts.most_common(1)\n",
        "        if most_frequent:\n",
        "            endpoint, count = most_frequent[0]\n",
        "            print(f\"Most Frequently Accessed Endpoint:\\n{endpoint} (Accessed {count} times)\")\n",
        "        else:\n",
        "            print(\"No endpoints found in the log file.\")\n",
        "\n",
        "    except FileNotFoundError:\n",
        "        print(f\"Error: File {log_file_path} not found.\")\n",
        "    except Exception as e:\n",
        "        print(f\"An error occurred: {e}\")\n",
        "\n",
        "# Usage example\n",
        "log_file_path = \"logfile.txt\"  # Replace with your log file path\n",
        "output_excel_path = \"ip_request_counts.xlsx\"  # Desired output Excel file path\n",
        "count_requests_per_ip(log_file_path, output_excel_path)\n",
        "\n",
        "# Identify the most frequently accessed endpoint\n",
        "most_frequent_endpoint(log_file_path)"
      ]
    },
    {
      "cell_type": "code",
      "execution_count": 7,
      "id": "ad977f18-e9ed-4244-ad4b-400f3792f961",
      "metadata": {
        "id": "ad977f18-e9ed-4244-ad4b-400f3792f961"
      },
      "outputs": [],
      "source": []
    },
    {
      "cell_type": "markdown",
      "id": "cf75361e-cfad-4cc3-99b9-71466fcca7e8",
      "metadata": {
        "id": "cf75361e-cfad-4cc3-99b9-71466fcca7e8"
      },
      "source": [
        "3. Detect Suspicious Activity\n",
        "   \n",
        "This function will identify IP addresses with excessive failed login attempts."
      ]
    },
    {
      "cell_type": "code",
      "execution_count": 8,
      "id": "1b0c2104-6b9e-4a5b-9435-b55db9abcfeb",
      "metadata": {
        "colab": {
          "base_uri": "https://localhost:8080/"
        },
        "id": "1b0c2104-6b9e-4a5b-9435-b55db9abcfeb",
        "outputId": "6c192fb3-9501-4219-fc7c-2c4e5d4c8358"
      },
      "outputs": [
        {
          "output_type": "stream",
          "name": "stdout",
          "text": [
            "Results successfully saved to ip_request_counts.xlsx\n",
            "Most Frequently Accessed Endpoint:\n",
            "/index.html (Accessed 1 times)\n",
            "Suspicious activity detected.\n"
          ]
        }
      ],
      "source": [
        "# Function to detect suspicious activity\n",
        "def detect_suspicious_activity(log_file_path, threshold=10):\n",
        "    try:\n",
        "        # Read the log file\n",
        "        with open(log_file_path, 'r') as log_file:\n",
        "            log_data = log_file.readlines()\n",
        "\n",
        "        # Extract failed login attempts (e.g., status code 401)\n",
        "        failed_pattern = r'\\b(?:[0-9]{1,3}\\.){3}[0-9]{1,3}\\b.*? 401 '\n",
        "        failed_attempts = [re.search(r'\\b(?:[0-9]{1,3}\\.){3}[0-9]{1,3}\\b', line).group(0) for line in log_data if re.search(failed_pattern, line)]\n",
        "\n",
        "        # Count failed login attempts per IP\n",
        "        failed_counts = Counter(failed_attempts)\n",
        "\n",
        "        # Filter IPs exceeding the threshold\n",
        "        suspicious_ips = {ip: count for ip, count in failed_counts.items() if count > threshold}\n",
        "\n",
        "        if suspicious_ips:\n",
        "            print(\"Suspicious Activity Detected:\")\n",
        "            print(\"IP Address           Failed Login Attempts\")\n",
        "            for ip, count in suspicious_ips.items():\n",
        "                print(f\"{ip:<20}{count}\")\n",
        "        else:\n",
        "            print(\"Suspicious activity detected.\")\n",
        "\n",
        "    except FileNotFoundError:\n",
        "        print(f\"Error: File {log_file_path} not found.\")\n",
        "    except Exception as e:\n",
        "        print(f\"An error occurred: {e}\")\n",
        "# Usage example\n",
        "log_file_path = \"logfile.txt\"  # Replace with your log file path\n",
        "output_excel_path = \"ip_request_counts.xlsx\"  # Desired output Excel file path\n",
        "count_requests_per_ip(log_file_path, output_excel_path)\n",
        "\n",
        "# Identify the most frequently accessed endpoint\n",
        "most_frequent_endpoint(log_file_path)\n",
        "\n",
        "# Detect suspicious activity\n",
        "detect_suspicious_activity(log_file_path, threshold=10)\n"
      ]
    },
    {
      "cell_type": "code",
      "execution_count": 8,
      "id": "bf45c8a4-e687-4968-bbf1-aaa7c921c4ad",
      "metadata": {
        "id": "bf45c8a4-e687-4968-bbf1-aaa7c921c4ad"
      },
      "outputs": [],
      "source": []
    },
    {
      "cell_type": "markdown",
      "id": "56064e32-da76-4dd5-a3ac-a70471a519f9",
      "metadata": {
        "id": "56064e32-da76-4dd5-a3ac-a70471a519f9"
      },
      "source": [
        "4. Output Results to CSV\n",
        "   \n",
        "This function will save the results to a CSV file."
      ]
    },
    {
      "cell_type": "code",
      "execution_count": 9,
      "id": "61b256ef-8544-48aa-8425-aec5459592c2",
      "metadata": {
        "colab": {
          "base_uri": "https://localhost:8080/"
        },
        "id": "61b256ef-8544-48aa-8425-aec5459592c2",
        "outputId": "4d7946d5-1a98-433f-fe59-d35c2cd0a8e7"
      },
      "outputs": [
        {
          "output_type": "stream",
          "name": "stdout",
          "text": [
            "Requests per IP:\n",
            "\n",
            "Most Accessed Endpoint:\n",
            "No endpoint accessed.\n",
            "\n",
            "Suspicious Activity (IPs with more than 3 failed login attempts):\n",
            "\n",
            "Results saved to ip_request_counts.xlsx\n"
          ]
        }
      ],
      "source": [
        "import re\n",
        "import pandas as pd\n",
        "from collections import defaultdict\n",
        "\n",
        "# Regular expression to parse the log lines\n",
        "log_pattern = r'file_path'\n",
        "\n",
        "# Function to parse the log file and return parsed data\n",
        "def parse_log(file_path):\n",
        "    ip_requests = defaultdict(int)\n",
        "    endpoint_access = defaultdict(int)\n",
        "    failed_logins = defaultdict(int)\n",
        "\n",
        "    with open(file_path, 'r') as file:\n",
        "        for line in file:\n",
        "            match = re.match(log_pattern, line)\n",
        "            if match:\n",
        "                ip = match.group('ip')\n",
        "                method = match.group('method')\n",
        "                endpoint = match.group('endpoint')\n",
        "                status = match.group('status')\n",
        "\n",
        "                # Count requests per IP\n",
        "                ip_requests[ip] += 1\n",
        "\n",
        "                # Count access to each endpoint\n",
        "                endpoint_access[endpoint] += 1\n",
        "\n",
        "                # Count failed login attempts\n",
        "                if method == 'POST' and endpoint == '/login' and status == '401':\n",
        "                    failed_logins[ip] += 1\n",
        "\n",
        "    return ip_requests, endpoint_access, failed_logins\n",
        "\n",
        "# Function to get the most accessed endpoint\n",
        "def get_most_accessed_endpoint(endpoint_access):\n",
        "    if endpoint_access:\n",
        "        most_accessed = max(endpoint_access.items(), key=lambda x: x[1])\n",
        "        return most_accessed\n",
        "    return None\n",
        "\n",
        "# Function to detect suspicious activity (failed login attempts > 3)\n",
        "def detect_suspicious_activity(failed_logins):\n",
        "    suspicious = {ip: count for ip, count in failed_logins.items() if count > 3}\n",
        "    return suspicious\n",
        "\n",
        "# Main function to process the log file and generate output\n",
        "def main(log_file_path, csv_output_path):\n",
        "    ip_requests, endpoint_access, failed_logins = parse_log(log_file_path)\n",
        "\n",
        "    # Display results in terminal\n",
        "    print(\"Requests per IP:\")\n",
        "    for ip, count in ip_requests.items():\n",
        "        print(f\"{ip}: {count}\")\n",
        "\n",
        "    most_accessed_endpoint = get_most_accessed_endpoint(endpoint_access)\n",
        "    print(\"\\nMost Accessed Endpoint:\")\n",
        "    if most_accessed_endpoint:\n",
        "        print(f\"{most_accessed_endpoint[0]}: {most_accessed_endpoint[1]}\")\n",
        "    else:\n",
        "        print(\"No endpoint accessed.\")\n",
        "\n",
        "    suspicious_activity = detect_suspicious_activity(failed_logins)\n",
        "    print(\"\\nSuspicious Activity (IPs with more than 3 failed login attempts):\")\n",
        "    for ip, count in suspicious_activity.items():\n",
        "        print(f\"{ip}: {count} failed login attempts\")\n",
        "\n",
        "    # Save results to CSV\n",
        "    all_results = {\n",
        "        \"Requests per IP\": pd.DataFrame(list(ip_requests.items()), columns=[\"IP Address\", \"Request Count\"]),\n",
        "        \"Most Accessed Endpoint\": pd.DataFrame([['Endpoint', 'Access Count'], [most_accessed_endpoint[0], most_accessed_endpoint[1]]]) if most_accessed_endpoint else pd.DataFrame([['Endpoint', 'Access Count'], ['N/A', 0]]),\n",
        "        \"Suspicious Activity\": pd.DataFrame(suspicious_activity.items(), columns=[\"IP Address\", \"Failed Login Count\"])\n",
        "    }\n",
        "\n",
        "    with pd.ExcelWriter(csv_output_path) as writer:\n",
        "        all_results[\"Requests per IP\"].to_excel(writer, sheet_name=\"Requests per IP\", index=False)\n",
        "        all_results[\"Most Accessed Endpoint\"].to_excel(writer, sheet_name=\"Most Accessed Endpoint\", index=False)\n",
        "        all_results[\"Suspicious Activity\"].to_excel(writer, sheet_name=\"Suspicious Activity\", index=False)\n",
        "\n",
        "    print(f\"\\nResults saved to {csv_output_path}\")\n",
        "\n",
        "# Example usage\n",
        "log_file_path = \"logfile.txt\"\n",
        "csv_output_path = \"ip_request_counts.xlsx\"\n",
        "main(log_file_path, csv_output_path)\n"
      ]
    },
    {
      "cell_type": "code",
      "execution_count": 10,
      "id": "41669944-7d6f-418d-a20d-04fe9ff95ad7",
      "metadata": {
        "colab": {
          "base_uri": "https://localhost:8080/"
        },
        "id": "41669944-7d6f-418d-a20d-04fe9ff95ad7",
        "outputId": "1ddafaa8-15bd-4f69-a703-c16c879bd16a"
      },
      "outputs": [
        {
          "output_type": "stream",
          "name": "stdout",
          "text": [
            "Requests per IP:\n",
            "192.168.1.1: 2\n",
            "203.0.113.5: 2\n",
            "10.0.0.2: 1\n",
            "\n",
            "Most Accessed Endpoint:\n",
            "/index.html: 1\n",
            "\n",
            "Suspicious Activity (IPs with more than 3 failed login attempts):\n",
            "\n",
            "Results saved to ip_request_counts.xlsx\n"
          ]
        }
      ],
      "source": [
        "import re\n",
        "import pandas as pd\n",
        "from collections import defaultdict\n",
        "\n",
        "# Regular expression to parse the log lines\n",
        "log_pattern = r'(?P<ip>\\d+\\.\\d+\\.\\d+\\.\\d+) - - \\[.*\\] \"(?P<method>[A-Z]+) (?P<endpoint>/\\S*) HTTP/1.1\" (?P<status>\\d{3}) \\d+'\n",
        "\n",
        "# Function to parse the log file and return parsed data\n",
        "def parse_log(file_path):\n",
        "    ip_requests = defaultdict(int)\n",
        "    endpoint_access = defaultdict(int)\n",
        "    failed_logins = defaultdict(int)\n",
        "\n",
        "    with open(file_path, 'r') as file:\n",
        "        for line in file:\n",
        "            match = re.match(log_pattern, line)\n",
        "            if match:\n",
        "                ip = match.group('ip')\n",
        "                method = match.group('method')\n",
        "                endpoint = match.group('endpoint')\n",
        "                status = match.group('status')\n",
        "\n",
        "                # Count requests per IP\n",
        "                ip_requests[ip] += 1\n",
        "\n",
        "                # Count access to each endpoint\n",
        "                endpoint_access[endpoint] += 1\n",
        "\n",
        "                # Count failed login attempts\n",
        "                if method == 'POST' and endpoint == '/login' and status == '401':\n",
        "                    failed_logins[ip] += 1\n",
        "\n",
        "    return ip_requests, endpoint_access, failed_logins\n",
        "\n",
        "# Function to get the most accessed endpoint\n",
        "def get_most_accessed_endpoint(endpoint_access):\n",
        "    if endpoint_access:\n",
        "        most_accessed = max(endpoint_access.items(), key=lambda x: x[1])\n",
        "        return most_accessed\n",
        "    return None\n",
        "\n",
        "# Function to detect suspicious activity (failed login attempts > 3)\n",
        "def detect_suspicious_activity(failed_logins):\n",
        "    suspicious = {ip: count for ip, count in failed_logins.items() if count > 3}\n",
        "    return suspicious\n",
        "\n",
        "# Main function to process the log file and generate output\n",
        "def main(log_file_path, csv_output_path):\n",
        "    ip_requests, endpoint_access, failed_logins = parse_log(log_file_path)\n",
        "\n",
        "    # Display results in terminal\n",
        "    print(\"Requests per IP:\")\n",
        "    for ip, count in ip_requests.items():\n",
        "        print(f\"{ip}: {count}\")\n",
        "\n",
        "    most_accessed_endpoint = get_most_accessed_endpoint(endpoint_access)\n",
        "    print(\"\\nMost Accessed Endpoint:\")\n",
        "    if most_accessed_endpoint:\n",
        "        print(f\"{most_accessed_endpoint[0]}: {most_accessed_endpoint[1]}\")\n",
        "    else:\n",
        "        print(\"No endpoint accessed.\")\n",
        "\n",
        "    suspicious_activity = detect_suspicious_activity(failed_logins)\n",
        "    print(\"\\nSuspicious Activity (IPs with more than 3 failed login attempts):\")\n",
        "    for ip, count in suspicious_activity.items():\n",
        "        print(f\"{ip}: {count} failed login attempts\")\n",
        "\n",
        "    # Save results to Excel\n",
        "    all_results = {\n",
        "        \"Requests per IP\": pd.DataFrame(list(ip_requests.items()), columns=[\"IP Address\", \"Request Count\"]),\n",
        "        \"Most Accessed Endpoint\": pd.DataFrame([['Endpoint', 'Access Count'], [most_accessed_endpoint[0], most_accessed_endpoint[1]]]) if most_accessed_endpoint else pd.DataFrame([['Endpoint', 'Access Count'], ['N/A', 0]]),\n",
        "        \"Suspicious Activity\": pd.DataFrame(suspicious_activity.items(), columns=[\"IP Address\", \"Failed Login Count\"])\n",
        "    }\n",
        "\n",
        "    with pd.ExcelWriter(csv_output_path) as writer:\n",
        "        all_results[\"Requests per IP\"].to_excel(writer, sheet_name=\"Requests per IP\", index=False)\n",
        "        all_results[\"Most Accessed Endpoint\"].to_excel(writer, sheet_name=\"Most Accessed Endpoint\", index=False)\n",
        "        all_results[\"Suspicious Activity\"].to_excel(writer, sheet_name=\"Suspicious Activity\", index=False)\n",
        "\n",
        "    print(f\"\\nResults saved to {csv_output_path}\")\n",
        "\n",
        "# Example usage\n",
        "log_file_path = 'logfile.txt'  # Replace with your actual log file path\n",
        "csv_output_path = 'ip_request_counts.xlsx'  # Replace with your desired output path\n",
        "main(log_file_path, csv_output_path)\n"
      ]
    },
    {
      "cell_type": "code",
      "execution_count": 10,
      "id": "c9b3e08c-8acd-44ec-a41b-0324d3eddc5d",
      "metadata": {
        "id": "c9b3e08c-8acd-44ec-a41b-0324d3eddc5d"
      },
      "outputs": [],
      "source": []
    },
    {
      "cell_type": "markdown",
      "id": "2498c301-add2-4f24-8cb3-91084c07c44f",
      "metadata": {
        "id": "2498c301-add2-4f24-8cb3-91084c07c44f"
      },
      "source": [
        "Full Script\n",
        "\n",
        "Here's the full script combining all the functions:"
      ]
    },
    {
      "cell_type": "code",
      "execution_count": 16,
      "id": "38d3127b-7d53-4ff5-a6a3-901ce6d2aefc",
      "metadata": {
        "id": "38d3127b-7d53-4ff5-a6a3-901ce6d2aefc"
      },
      "outputs": [],
      "source": [
        "import csv\n",
        "from collections import defaultdict\n",
        "\n",
        "# ... (rest of the code remains the same) ...\n",
        "\n",
        "# Example usage\n",
        "logfile = 'logfile.txt'  # Changed to 'logfile.txt' which is created in the first cell\n",
        "ip_counts = count_requests_per_ip(logfile)\n",
        "most_accessed = most_frequently_accessed_endpoint(logfile)\n",
        "suspicious_ips = detect_suspicious_activity(logfile) # This line was changed to call the function correctly\n",
        "save_results_to_csv(ip_counts, most_accessed, suspicious_ips)\n"
      ]
    },
    {
      "cell_type": "code",
      "source": [
        "# prompt: i want this hole coe and output in csv file\n",
        "\n",
        "import re\n",
        "import pandas as pd\n",
        "from collections import Counter\n",
        "from collections import defaultdict\n",
        "\n",
        "# Sample log data (replace with your actual log file path)\n",
        "sample_log = \"\"\"\\\n",
        "192.168.1.1 - - [01/Dec/2024:12:34:56 +0000] \"GET /index.html HTTP/1.1\" 200 1024\n",
        "203.0.113.5 - - [01/Dec/2024:12:35:12 +0000] \"POST /login HTTP/1.1\" 403 512\n",
        "192.168.1.1 - - [01/Dec/2024:12:35:30 +0000] \"GET /about.html HTTP/1.1\" 200 2048\n",
        "10.0.0.2 - - [01/Dec/2024:12:36:00 +0000] \"GET /home HTTP/1.1\" 404 256\n",
        "203.0.113.5 - - [01/Dec/2024:12:36:45 +0000] \"GET /dashboard HTTP/1.1\" 200 768\n",
        "203.0.113.5 - - [01/Dec/2024:12:37:00 +0000] \"POST /login HTTP/1.1\" 401 512\n",
        "203.0.113.5 - - [01/Dec/2024:12:37:05 +0000] \"POST /login HTTP/1.1\" 401 512\n",
        "203.0.113.5 - - [01/Dec/2024:12:37:10 +0000] \"POST /login HTTP/1.1\" 401 512\n",
        "\"\"\"\n",
        "\n",
        "log_file_path = \"logfile.txt\"\n",
        "with open(log_file_path, \"w\") as file:\n",
        "    file.write(sample_log)\n",
        "\n",
        "# Regular expression to parse the log lines\n",
        "log_pattern = r'(?P<ip>\\d+\\.\\d+\\.\\d+\\.\\d+) - - \\[.*\\] \"(?P<method>[A-Z]+) (?P<endpoint>/\\S*) HTTP/1.1\" (?P<status>\\d{3}) \\d+'\n",
        "\n",
        "def parse_log(file_path):\n",
        "    ip_requests = defaultdict(int)\n",
        "    endpoint_access = defaultdict(int)\n",
        "    failed_logins = defaultdict(int)\n",
        "\n",
        "    with open(file_path, 'r') as file:\n",
        "        for line in file:\n",
        "            match = re.match(log_pattern, line)\n",
        "            if match:\n",
        "                ip = match.group('ip')\n",
        "                method = match.group('method')\n",
        "                endpoint = match.group('endpoint')\n",
        "                status = match.group('status')\n",
        "\n",
        "                ip_requests[ip] += 1\n",
        "                endpoint_access[endpoint] += 1\n",
        "\n",
        "                if method == 'POST' and endpoint == '/login' and status == '401':\n",
        "                    failed_logins[ip] += 1\n",
        "\n",
        "    return ip_requests, endpoint_access, failed_logins\n",
        "\n",
        "def get_most_accessed_endpoint(endpoint_access):\n",
        "    if endpoint_access:\n",
        "        return max(endpoint_access.items(), key=lambda x: x[1])\n",
        "    return None\n",
        "\n",
        "def detect_suspicious_activity(failed_logins):\n",
        "    return {ip: count for ip, count in failed_logins.items() if count > 3}\n",
        "\n",
        "def main(log_file_path, csv_output_path):\n",
        "    ip_requests, endpoint_access, failed_logins = parse_log(log_file_path)\n",
        "    most_accessed_endpoint = get_most_accessed_endpoint(endpoint_access)\n",
        "    suspicious_activity = detect_suspicious_activity(failed_logins)\n",
        "\n",
        "    all_results = {\n",
        "        \"Requests per IP\": pd.DataFrame(list(ip_requests.items()), columns=[\"IP Address\", \"Request Count\"]),\n",
        "        \"Most Accessed Endpoint\": pd.DataFrame([most_accessed_endpoint]) if most_accessed_endpoint else pd.DataFrame([[\"N/A\",0]], columns=[\"Endpoint\", \"Access Count\"]),\n",
        "        \"Suspicious Activity\": pd.DataFrame(suspicious_activity.items(), columns=[\"IP Address\", \"Failed Login Count\"])\n",
        "    }\n",
        "\n",
        "    with pd.ExcelWriter(csv_output_path) as writer:\n",
        "      all_results[\"Requests per IP\"].to_excel(writer, sheet_name=\"Requests per IP\", index=False)\n",
        "      all_results[\"Most Accessed Endpoint\"].to_excel(writer, sheet_name=\"Most Accessed Endpoint\", index=False, header=[\"Endpoint\", \"Access Count\"])\n",
        "      all_results[\"Suspicious Activity\"].to_excel(writer, sheet_name=\"Suspicious Activity\", index=False)\n",
        "    print(f\"\\nResults saved to {csv_output_path}\")\n",
        "\n",
        "# Example usage\n",
        "log_file_path = 'logfile.txt'\n",
        "csv_output_path = 'ip_request_counts.xlsx'\n",
        "main(log_file_path, csv_output_path)"
      ],
      "metadata": {
        "colab": {
          "base_uri": "https://localhost:8080/"
        },
        "id": "UEgPJTHJbC0O",
        "outputId": "763ebc16-8a01-46fe-b22b-423b2c46f765"
      },
      "id": "UEgPJTHJbC0O",
      "execution_count": 18,
      "outputs": [
        {
          "output_type": "stream",
          "name": "stdout",
          "text": [
            "\n",
            "Results saved to ip_request_counts.xlsx\n"
          ]
        }
      ]
    },
    {
      "cell_type": "code",
      "source": [
        "# prompt: show file location\n",
        "\n",
        "import os\n",
        "\n",
        "def get_file_location(file_path):\n",
        "    \"\"\"\n",
        "    Gets the absolute path of a file if it exists.\n",
        "    \"\"\"\n",
        "    if os.path.exists(file_path):\n",
        "        absolute_path = os.path.abspath(file_path)\n",
        "        print(f\"The absolute path of '{file_path}' is: {absolute_path}\")\n",
        "    else:\n",
        "        print(f\"File '{file_path}' not found.\")\n",
        "\n",
        "# Example usage (replace 'your_file.txt' with your actual file path)\n",
        "get_file_location('logfile.txt')"
      ],
      "metadata": {
        "colab": {
          "base_uri": "https://localhost:8080/"
        },
        "id": "yQQPrJxxbJwp",
        "outputId": "bfe22394-bb64-440b-ce03-8c0be900739c"
      },
      "id": "yQQPrJxxbJwp",
      "execution_count": 19,
      "outputs": [
        {
          "output_type": "stream",
          "name": "stdout",
          "text": [
            "The absolute path of 'logfile.txt' is: /content/logfile.txt\n"
          ]
        }
      ]
    },
    {
      "cell_type": "code",
      "source": [],
      "metadata": {
        "id": "8r0VF31RbVPL"
      },
      "id": "8r0VF31RbVPL",
      "execution_count": null,
      "outputs": []
    }
  ],
  "metadata": {
    "kernelspec": {
      "display_name": "Python 3 (ipykernel)",
      "language": "python",
      "name": "python3"
    },
    "language_info": {
      "codemirror_mode": {
        "name": "ipython",
        "version": 3
      },
      "file_extension": ".py",
      "mimetype": "text/x-python",
      "name": "python",
      "nbconvert_exporter": "python",
      "pygments_lexer": "ipython3",
      "version": "3.10.0"
    },
    "colab": {
      "provenance": []
    }
  },
  "nbformat": 4,
  "nbformat_minor": 5
}